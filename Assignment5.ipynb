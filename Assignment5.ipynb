{
 "cells": [
  {
   "cell_type": "code",
   "execution_count": 9,
   "id": "515da8b3-bdee-4936-b75b-c48b808c4065",
   "metadata": {},
   "outputs": [
    {
     "data": {
      "text/plain": [
       "('Tayota', 2340, '10 KM/h')"
      ]
     },
     "execution_count": 9,
     "metadata": {},
     "output_type": "execute_result"
    }
   ],
   "source": [
    "'''Q1, Create a vehicle class with an init method having instance variables as name_of_vehicle, max_speed\n",
    "and average_of_vehicle.'''\n",
    "\n",
    "class vehicle:\n",
    "    \n",
    "    def __init__(self, name_of_vehicle, max_speed, average_of_vehicle):\n",
    "        self.name_of_vehicle=name_of_vehicle\n",
    "        self.max_speed=max_speed\n",
    "        self.average_of_vehicle=average_of_vehicle\n",
    "        \n",
    "    def display(self):\n",
    "        return self.name_of_vehicle, self.max_speed, self.average_of_vehicle\n",
    "        \n",
    "Car=vehicle(\"Tayota\", 2340, \"10 KM/h\")\n",
    "Car.display()\n"
   ]
  },
  {
   "cell_type": "code",
   "execution_count": 4,
   "id": "e919c139-f195-4608-b7d1-1b9d7c187c6e",
   "metadata": {},
   "outputs": [
    {
     "data": {
      "text/plain": [
       "('Maruti', '5 Seater')"
      ]
     },
     "execution_count": 4,
     "metadata": {},
     "output_type": "execute_result"
    }
   ],
   "source": [
    "'''Q2. Create a child class car from the vehicle class created in Que 1, which will inherit the vehicle class.\n",
    "Create a method named seating_capacity which takes capacity as an argument and returns the name of\n",
    "the vehicle and its seating capacity.'''\n",
    "\n",
    "class vehicle:\n",
    "    \n",
    "    def __init__(self, name_of_vehicle, max_speed, average_of_vehicle):\n",
    "        self.name_of_vehicle=name_of_vehicle\n",
    "        self.max_speed=max_speed\n",
    "        self.average_of_vehicle=average_of_vehicle\n",
    "        \n",
    "    def display(self):\n",
    "        return self.name_of_vehicle, self.max_speed, self.average_of_vehicle\n",
    "    \n",
    "class car(vehicle):\n",
    "    def seating_capacity(self, capacity):\n",
    "        return self.name_of_vehicle, capacity\n",
    "\n",
    "deepak=car(\"Maruti\", 200, 25)\n",
    "deepak.seating_capacity(\"5 Seater\")\n",
    "        \n",
    "        "
   ]
  },
  {
   "cell_type": "code",
   "execution_count": 9,
   "id": "82be569f-986f-4b15-b12f-a7a9b8f5b375",
   "metadata": {},
   "outputs": [
    {
     "name": "stdout",
     "output_type": "stream",
     "text": [
      "Engine started\n",
      "Gear shifted\n",
      "Car is driving\n"
     ]
    }
   ],
   "source": [
    "'''Q3. What is multiple inheritance? Write a python code to demonstrate multiple inheritance.\n",
    "Ans:- Multiple Inheritance:- In mulitiple Inheritance child class inherit the properties of more than one parent class.\n",
    "\n",
    "Program:-'''\n",
    "class Engine:\n",
    "    def start(self):\n",
    "        return \"Engine started\"\n",
    "\n",
    "\n",
    "class Transmission:\n",
    "    def shift_gear(self):\n",
    "        return \"Gear shifted\"\n",
    "\n",
    "\n",
    "class Car(Engine, Transmission):\n",
    "    def drive(self):\n",
    "        return \"Car is driving\"\n",
    "\n",
    "my_car = Car()\n",
    "\n",
    "print(my_car.start())       \n",
    "print(my_car.shift_gear())  \n",
    "print(my_car.drive())      "
   ]
  },
  {
   "cell_type": "code",
   "execution_count": 31,
   "id": "5bc96ec9-15dc-4bed-943d-b60e45286c87",
   "metadata": {},
   "outputs": [
    {
     "name": "stdout",
     "output_type": "stream",
     "text": [
      "Congratulations!\n",
      "Getter method Called\n"
     ]
    },
    {
     "data": {
      "text/plain": [
       "19"
      ]
     },
     "execution_count": 31,
     "metadata": {},
     "output_type": "execute_result"
    }
   ],
   "source": [
    "'''Q4. What are getter and setter in python? Create a class and create a getter and a setter method in this\n",
    "class.\n",
    "\n",
    "Ans:-  getters and setters  methods are used to access and modify the attributes (variables) of a class. \n",
    "They are used to control the access and modification of class attributes and are a part of the encapsulation concept in \n",
    "object-oriented programming.\n",
    "\n",
    "Program:-'''\n",
    "\n",
    "class get_set:\n",
    "    def __init__(self):\n",
    "        self._age=0\n",
    "        \n",
    "    def setter_method(self,a):\n",
    "        if(a<18):\n",
    "            print(\"Sorry we can't take your request\")\n",
    "        else:\n",
    "            print(\"Congratulations!\")\n",
    "            self._age=a\n",
    "            \n",
    "    def getter_method(self):\n",
    "        print(\"Getter method Called\")\n",
    "        return self._age\n",
    "    \n",
    "deepak=get_set()\n",
    "deepak.setter_method(19)\n",
    "deepak.getter_method()\n",
    "\n"
   ]
  },
  {
   "cell_type": "code",
   "execution_count": 14,
   "id": "40530ca6-2eef-45b1-aa66-885214481eca",
   "metadata": {},
   "outputs": [
    {
     "name": "stdout",
     "output_type": "stream",
     "text": [
      "Inside Child\n",
      "Inside Parent2\n",
      "Inside Parent1\n"
     ]
    }
   ],
   "source": [
    "'''Q5.What is method overriding in python? Write a python code to demonstrate method overriding.\n",
    "\n",
    "Ans:- Method Overriding:- Method Overriding in Python  exists when a method defined in the super class is overridden by the\n",
    "      method defined in the subclass. In method overriding same name of method in parent and as well as in child class '''\n",
    "\n",
    "\n",
    "\n",
    "class Parent1(): \n",
    "          \n",
    "    def show(self): \n",
    "        print(\"Inside Parent1\") \n",
    "          \n",
    "class Parent2(): \n",
    "          \n",
    "    def display(self): \n",
    "        print(\"Inside Parent2\") \n",
    "          \n",
    "class Child(Parent1, Parent2): \n",
    "    def show(self): \n",
    "        print(\"Inside Child\") \n",
    "     \n",
    "        \n",
    "obj = Child() \n",
    "  \n",
    "obj.show() \n",
    "obj.display() \n",
    "\n",
    "obj2=Parent1()\n",
    "obj.show()"
   ]
  },
  {
   "cell_type": "code",
   "execution_count": null,
   "id": "8006a2cd-c6c1-4ae1-a03b-d2c594f756fd",
   "metadata": {},
   "outputs": [],
   "source": []
  }
 ],
 "metadata": {
  "kernelspec": {
   "display_name": "Python 3 (ipykernel)",
   "language": "python",
   "name": "python3"
  },
  "language_info": {
   "codemirror_mode": {
    "name": "ipython",
    "version": 3
   },
   "file_extension": ".py",
   "mimetype": "text/x-python",
   "name": "python",
   "nbconvert_exporter": "python",
   "pygments_lexer": "ipython3",
   "version": "3.10.8"
  }
 },
 "nbformat": 4,
 "nbformat_minor": 5
}
